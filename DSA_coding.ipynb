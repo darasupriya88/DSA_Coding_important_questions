{
 "cells": [
  {
   "cell_type": "markdown",
   "id": "f2c1e0a9",
   "metadata": {},
   "source": [
    "# Write a function to reverse a string in Python\n",
    " "
   ]
  },
  {
   "cell_type": "code",
   "execution_count": 1,
   "id": "8af3bd47",
   "metadata": {},
   "outputs": [
    {
     "name": "stdout",
     "output_type": "stream",
     "text": [
      "olleh\n"
     ]
    }
   ],
   "source": [
    "def reverse_string(string):\n",
    "    return string[::-1]\n",
    "print(reverse_string(\"hello\"))"
   ]
  },
  {
   "cell_type": "markdown",
   "id": "44635a1f",
   "metadata": {},
   "source": [
    "# Q.2 Check if a string is a palindrome.\n"
   ]
  },
  {
   "cell_type": "code",
   "execution_count": 2,
   "id": "82228056",
   "metadata": {},
   "outputs": [
    {
     "name": "stdout",
     "output_type": "stream",
     "text": [
      "True\n"
     ]
    }
   ],
   "source": [
    "def is_palindrome(s):\n",
    "    return s == s[::-1]\n",
    "print(is_palindrome(\"madam\"))"
   ]
  },
  {
   "cell_type": "markdown",
   "id": "e017e6d7",
   "metadata": {},
   "source": [
    "# Q 3. Write a function to find the nth Fibonacci number using recursion.\n"
   ]
  },
  {
   "cell_type": "code",
   "execution_count": 4,
   "id": "ce9da553",
   "metadata": {},
   "outputs": [
    {
     "data": {
      "text/plain": [
       "55"
      ]
     },
     "execution_count": 4,
     "metadata": {},
     "output_type": "execute_result"
    }
   ],
   "source": [
    "def fib(n):\n",
    "    if n <= 1:\n",
    "        return n\n",
    "    else:\n",
    "        return fib(n-1) + fib(n-2)\n",
    "    \n",
    "fib(10)"
   ]
  },
  {
   "cell_type": "markdown",
   "id": "f909088b",
   "metadata": {},
   "source": [
    "# Q.4 Find indices of two numbers that add up to a specific target in an array.\n"
   ]
  },
  {
   "cell_type": "code",
   "execution_count": 5,
   "id": "907fa336",
   "metadata": {},
   "outputs": [
    {
     "name": "stdout",
     "output_type": "stream",
     "text": [
      "(1, 2)\n"
     ]
    }
   ],
   "source": [
    "def sum_of_two(nums, target):\n",
    "    for i in range(len(nums)-1):\n",
    "        if nums[i] + nums[i+1] == target:\n",
    "            return i, i+1\n",
    "\n",
    "\n",
    "print(sum_of_two([2, 7, 3, 15], 10))"
   ]
  },
  {
   "cell_type": "markdown",
   "id": "6e05e56e",
   "metadata": {},
   "source": [
    "# Q.5 Write a Python function to calculate the factorial of a number.\n"
   ]
  },
  {
   "cell_type": "code",
   "execution_count": 6,
   "id": "7bc48a69",
   "metadata": {},
   "outputs": [
    {
     "name": "stdout",
     "output_type": "stream",
     "text": [
      "120\n"
     ]
    }
   ],
   "source": [
    "def factorial(n):\n",
    "    if n == 0 or n==1:\n",
    "        return n \n",
    "    else:\n",
    "        return n*factorial(n-1)\n",
    "    \n",
    "print(factorial(5))"
   ]
  },
  {
   "cell_type": "markdown",
   "id": "cffd02cb",
   "metadata": {},
   "source": [
    "# Q.6 How would you count the occurrences of each element in a list?\n"
   ]
  },
  {
   "cell_type": "code",
   "execution_count": 11,
   "id": "388d3af3",
   "metadata": {},
   "outputs": [
    {
     "name": "stdout",
     "output_type": "stream",
     "text": [
      "Counter({3: 3, 2: 2, 1: 1})\n"
     ]
    }
   ],
   "source": [
    "\n",
    "from collections import Counter\n",
    "def count_occurences(nums):\n",
    "    return Counter(nums)\n",
    "\n",
    "print(count_occurences([1, 2, 2, 3, 3, 3]))"
   ]
  },
  {
   "cell_type": "markdown",
   "id": "3399f8ef",
   "metadata": {},
   "source": [
    "# Q.7 How would you load a CSV file into a Pandas DataFrame?\n"
   ]
  },
  {
   "cell_type": "code",
   "execution_count": 13,
   "id": "350813f6",
   "metadata": {},
   "outputs": [],
   "source": [
    "import pandas as pd \n",
    "#df = pd.read_csv('file.csv')"
   ]
  },
  {
   "cell_type": "markdown",
   "id": "f58813e9",
   "metadata": {},
   "source": [
    "# Q.8 Write a function to calculate the element-wise sum of two Numpy arrays.\n"
   ]
  },
  {
   "cell_type": "code",
   "execution_count": 5,
   "id": "eba6cdf5",
   "metadata": {},
   "outputs": [
    {
     "data": {
      "text/plain": [
       "array([3, 5])"
      ]
     },
     "execution_count": 5,
     "metadata": {},
     "output_type": "execute_result"
    }
   ],
   "source": [
    "import numpy as np \n",
    "arr1 = np.array([1,2])\n",
    "arr2 = np.array([2,3])\n",
    "result = np.add(arr1, arr2)\n",
    "result"
   ]
  },
  {
   "cell_type": "markdown",
   "id": "22e6597f",
   "metadata": {},
   "source": [
    "# Q.9 How would you extract the diagonal elements of a Numpy matrix?\n"
   ]
  },
  {
   "cell_type": "code",
   "execution_count": 7,
   "id": "53bda83b",
   "metadata": {},
   "outputs": [
    {
     "name": "stdout",
     "output_type": "stream",
     "text": [
      "[1 5]\n"
     ]
    }
   ],
   "source": [
    "import numpy as np \n",
    "matrix = np.array([[1,2,3], [4,5,6]])\n",
    "print(np.diagonal(matrix))"
   ]
  },
  {
   "cell_type": "markdown",
   "id": "f35f55d0",
   "metadata": {},
   "source": [
    "# Q.10 Write code to reshape a 1D Numpy array into a 2D array with 3 rows.\n"
   ]
  },
  {
   "cell_type": "code",
   "execution_count": 11,
   "id": "d08fb538",
   "metadata": {},
   "outputs": [
    {
     "data": {
      "text/plain": [
       "array([[1, 2],\n",
       "       [3, 4],\n",
       "       [5, 6]])"
      ]
     },
     "execution_count": 11,
     "metadata": {},
     "output_type": "execute_result"
    }
   ],
   "source": [
    "import numpy as np \n",
    "arr1 = np.array([1,2,3,4,5,6])\n",
    "arr2 = arr1.reshape(3,2)\n",
    "arr2"
   ]
  },
  {
   "cell_type": "markdown",
   "id": "19af9366",
   "metadata": {},
   "source": [
    "# Q.11 Write a Python function to calculate the mean, median, and standard deviation of a list of numbers.\n"
   ]
  },
  {
   "cell_type": "code",
   "execution_count": 12,
   "id": "721a0d36",
   "metadata": {},
   "outputs": [
    {
     "name": "stdout",
     "output_type": "stream",
     "text": [
      "25.0 25.0 11.180339887498949\n"
     ]
    }
   ],
   "source": [
    "lst = [10, 20, 30, 40]\n",
    "import numpy as np \n",
    "mean = np.mean(lst)\n",
    "median = np.median(lst)\n",
    "st_dev = np.std(lst)\n",
    "print(mean, median, st_dev)"
   ]
  },
  {
   "cell_type": "markdown",
   "id": "a561b738",
   "metadata": {},
   "source": [
    "# Q 12. How would you handle missing values in a DataFrame?\n"
   ]
  },
  {
   "cell_type": "code",
   "execution_count": 14,
   "id": "e4620f41",
   "metadata": {},
   "outputs": [],
   "source": [
    "#df.fillna(df.mean(),inplace = true)"
   ]
  },
  {
   "cell_type": "code",
   "execution_count": null,
   "id": "8659f60e",
   "metadata": {},
   "outputs": [],
   "source": [
    "#df.dropna(inplace=true)"
   ]
  },
  {
   "cell_type": "markdown",
   "id": "63da9913",
   "metadata": {},
   "source": [
    "# Q 13. How do you read and write data from a file in Python?\n"
   ]
  },
  {
   "cell_type": "code",
   "execution_count": null,
   "id": "2e9359b9",
   "metadata": {},
   "outputs": [],
   "source": [
    "with open('file.txt', 'r') as file:\n",
    "    content = file.read()\n",
    "print(content)"
   ]
  },
  {
   "cell_type": "code",
   "execution_count": null,
   "id": "a5ede7fd",
   "metadata": {},
   "outputs": [],
   "source": [
    "with open('file.text','w') as file:\n",
    "    file.write(\"hello world\")"
   ]
  },
  {
   "cell_type": "markdown",
   "id": "18f7a6dc",
   "metadata": {},
   "source": [
    "# Q 14. Write an SQL query to retrieve all columns from a table named employees where the age is greater than 30.\n"
   ]
  },
  {
   "cell_type": "code",
   "execution_count": 15,
   "id": "66003d05",
   "metadata": {},
   "outputs": [
    {
     "ename": "SyntaxError",
     "evalue": "invalid syntax (4043437492.py, line 1)",
     "output_type": "error",
     "traceback": [
      "\u001b[0;36m  Cell \u001b[0;32mIn[15], line 1\u001b[0;36m\u001b[0m\n\u001b[0;31m    selecy * from employees\u001b[0m\n\u001b[0m             ^\u001b[0m\n\u001b[0;31mSyntaxError\u001b[0m\u001b[0;31m:\u001b[0m invalid syntax\n"
     ]
    }
   ],
   "source": [
    "selecy * from employees\n",
    "where age > 30;"
   ]
  },
  {
   "cell_type": "markdown",
   "id": "ee971ce6",
   "metadata": {},
   "source": [
    "# Q 15. Write an SQL query to join two tables: orders and customers, where the customer_id in orders matches the id in customers.\n"
   ]
  },
  {
   "cell_type": "code",
   "execution_count": null,
   "id": "96a5b1a7",
   "metadata": {},
   "outputs": [],
   "source": [
    "select orders.order_id, customers.customer_name\n",
    "from customers \n",
    "join order on customers.customer_id = orders.customerID"
   ]
  },
  {
   "cell_type": "markdown",
   "id": "9ceafae2",
   "metadata": {},
   "source": [
    "# Q 16. Write an SQL query to find the average salary for each department in a company table, but only for departments with more than 10 employees.\n"
   ]
  },
  {
   "cell_type": "code",
   "execution_count": null,
   "id": "44166c7e",
   "metadata": {},
   "outputs": [],
   "source": [
    "select dept, avg(salary)\n",
    "from employees\n",
    "group by dept\n",
    "having count(employee_id)>10"
   ]
  },
  {
   "cell_type": "markdown",
   "id": "b2288e14",
   "metadata": {},
   "source": [
    "# Q 17. Write an SQL query to find all employees whose salary is greater than the average salary in the employees table.\n"
   ]
  },
  {
   "cell_type": "code",
   "execution_count": null,
   "id": "ad886fad",
   "metadata": {},
   "outputs": [],
   "source": [
    "select * from employees\n",
    "where salary > (select avg(salary) from employee)"
   ]
  },
  {
   "cell_type": "markdown",
   "id": "925a11b0",
   "metadata": {},
   "source": [
    "# Q 18. Write an SQL query to find the total sales from the sales table for each product.\n"
   ]
  },
  {
   "cell_type": "code",
   "execution_count": null,
   "id": "258f8583",
   "metadata": {},
   "outputs": [],
   "source": [
    "select product_id, sum(sales_amount)\n",
    "from sales\n",
    "group by product_id"
   ]
  },
  {
   "cell_type": "markdown",
   "id": "7fa73717",
   "metadata": {},
   "source": [
    "# Q 23. Explain how a hash table works. Provide an example.\n"
   ]
  },
  {
   "cell_type": "code",
   "execution_count": 16,
   "id": "911f66b5",
   "metadata": {},
   "outputs": [
    {
     "name": "stdout",
     "output_type": "stream",
     "text": [
      "rihan\n",
      "22\n",
      "america\n"
     ]
    }
   ],
   "source": [
    "# Hash table is a data structure that stores key-value pairs. \n",
    "# It uses a hash function to compute an index into an array of buckets or slots, from which the desired value can be found.\n",
    "hash_table = {}\n",
    "hash_table[\"name\"]= \"rihan\"\n",
    "hash_table[\"age\"] = 22\n",
    "hash_table[\"city\"] = \"america\"\n",
    "\n",
    "print(hash_table[\"name\"])\n",
    "print(hash_table[\"age\"])\n",
    "print(hash_table[\"city\"])"
   ]
  },
  {
   "cell_type": "markdown",
   "id": "9ac4cdba",
   "metadata": {},
   "source": [
    "# Q 24. Find the First Non-Repeated Character in a String\n"
   ]
  },
  {
   "cell_type": "code",
   "execution_count": 28,
   "id": "49e3bc60",
   "metadata": {},
   "outputs": [
    {
     "name": "stdout",
     "output_type": "stream",
     "text": [
      "w\n",
      "None\n"
     ]
    }
   ],
   "source": [
    "def first_non_repeated_char(string):\n",
    "    char_count = {}\n",
    "    for char in string:\n",
    "        if char in char_count:\n",
    "            char_count[char] += 1\n",
    "        else:\n",
    "            char_count[char] = 1\n",
    "    for char in string:\n",
    "        if char_count[char] == 1:\n",
    "            return char\n",
    "    return None\n",
    "string = 'swiss'        \n",
    "print(first_non_repeated_char(string)) \n",
    "print(first_non_repeated_char(\"aabbcc\"))"
   ]
  },
  {
   "cell_type": "markdown",
   "id": "f4823e3c",
   "metadata": {},
   "source": [
    "# Q 25. Check if Two Strings are Anagrams of Each Other.\n",
    "\n",
    "\n"
   ]
  },
  {
   "cell_type": "code",
   "execution_count": 33,
   "id": "a7c416dd",
   "metadata": {},
   "outputs": [
    {
     "name": "stdout",
     "output_type": "stream",
     "text": [
      "True\n",
      "False\n"
     ]
    }
   ],
   "source": [
    "def are_anagrams(str1, str2):\n",
    "    if len(str1) != len(str2):\n",
    "        return false\n",
    "    else:\n",
    "        return sorted(str1) == sorted(str2)\n",
    "print(are_anagrams(\"listen\", \"silent\"))  \n",
    "print(are_anagrams(\"hello\", \"world\"))"
   ]
  },
  {
   "cell_type": "markdown",
   "id": "56d3538e",
   "metadata": {},
   "source": [
    "# Q 26. How do you transpose a NumPy array?\n"
   ]
  },
  {
   "cell_type": "code",
   "execution_count": 35,
   "id": "b74a942a",
   "metadata": {
    "scrolled": true
   },
   "outputs": [
    {
     "data": {
      "text/plain": [
       "array([[1, 4],\n",
       "       [2, 5]])"
      ]
     },
     "execution_count": 35,
     "metadata": {},
     "output_type": "execute_result"
    }
   ],
   "source": [
    "import numpy as np\n",
    "arr1 = np.array([[1,2],[4,5]])\n",
    "arr1.T\n"
   ]
  },
  {
   "cell_type": "markdown",
   "id": "2cc62b62",
   "metadata": {},
   "source": [
    "# Q 27 Find the median of two sorted arrays of different sizes.\n"
   ]
  },
  {
   "cell_type": "code",
   "execution_count": 37,
   "id": "9f1c378f",
   "metadata": {},
   "outputs": [
    {
     "name": "stdout",
     "output_type": "stream",
     "text": [
      "3\n"
     ]
    }
   ],
   "source": [
    "def find_median(arr1,arr2):\n",
    "    merged=  sorted (arr1 + arr2)\n",
    "    n = len(merged)\n",
    "    return (merged[n//2] + merged[n//2 -1])/2 if n%2 ==0 else merged[n//2]\n",
    "\n",
    "print(find_median([1, 3], [2, 4, 5]))"
   ]
  },
  {
   "cell_type": "markdown",
   "id": "a0aac331",
   "metadata": {},
   "source": [
    "# Q 29. Find the kth smallest element in an unsorted array.\n"
   ]
  },
  {
   "cell_type": "code",
   "execution_count": 38,
   "id": "9b7849d8",
   "metadata": {},
   "outputs": [
    {
     "name": "stdout",
     "output_type": "stream",
     "text": [
      "7\n"
     ]
    }
   ],
   "source": [
    "import heapq\n",
    "def kth_smallest(arr, k):\n",
    "    return heapq.nsmallest(k,arr)[-1]\n",
    "    \n",
    "print(kth_smallest([7, 10, 4, 3, 20, 15], 3))"
   ]
  },
  {
   "cell_type": "markdown",
   "id": "c4dad33b",
   "metadata": {},
   "source": [
    "# Q 30. Generate all possible permutations of a given list of numbers.\n"
   ]
  },
  {
   "cell_type": "code",
   "execution_count": 42,
   "id": "0f033e29",
   "metadata": {},
   "outputs": [
    {
     "name": "stdout",
     "output_type": "stream",
     "text": [
      "[(1, 2, 3), (1, 3, 2), (2, 1, 3), (2, 3, 1), (3, 1, 2), (3, 2, 1)]\n"
     ]
    }
   ],
   "source": [
    "from itertools import permutations\n",
    "def generate_permutations(arr):\n",
    "    return list(permutations(arr))\n",
    "\n",
    "print(generate_permutations([1, 2, 3]))"
   ]
  },
  {
   "cell_type": "markdown",
   "id": "bceb22d9",
   "metadata": {},
   "source": [
    "# Q 37. Perform one-hot encoding of categorical variables in a dataset.\n"
   ]
  },
  {
   "cell_type": "code",
   "execution_count": 44,
   "id": "bdfbb432",
   "metadata": {},
   "outputs": [
    {
     "name": "stdout",
     "output_type": "stream",
     "text": [
      "   Color_Blue  Color_Green  Color_Red\n",
      "0       False        False       True\n",
      "1        True        False      False\n",
      "2       False         True      False\n"
     ]
    }
   ],
   "source": [
    "import pandas as pd\n",
    "\n",
    "def one_hot_encode(data, column):\n",
    "    return pd.get_dummies(data, columns = [column])\n",
    "\n",
    "df = pd.DataFrame({'Color': ['Red', 'Blue', 'Green']})\n",
    "print(one_hot_encode(df, 'Color'))"
   ]
  },
  {
   "cell_type": "code",
   "execution_count": null,
   "id": "99e29add",
   "metadata": {},
   "outputs": [],
   "source": []
  }
 ],
 "metadata": {
  "kernelspec": {
   "display_name": "Python 3 (ipykernel)",
   "language": "python",
   "name": "python3"
  },
  "language_info": {
   "codemirror_mode": {
    "name": "ipython",
    "version": 3
   },
   "file_extension": ".py",
   "mimetype": "text/x-python",
   "name": "python",
   "nbconvert_exporter": "python",
   "pygments_lexer": "ipython3",
   "version": "3.11.5"
  }
 },
 "nbformat": 4,
 "nbformat_minor": 5
}
